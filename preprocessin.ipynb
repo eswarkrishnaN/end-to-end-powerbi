{
  "nbformat": 4,
  "nbformat_minor": 0,
  "metadata": {
    "colab": {
      "provenance": []
    },
    "kernelspec": {
      "name": "python3",
      "display_name": "Python 3"
    },
    "language_info": {
      "name": "python"
    }
  },
  "cells": [
    {
      "cell_type": "code",
      "execution_count": null,
      "metadata": {
        "id": "xiocbAPBIUpY"
      },
      "outputs": [],
      "source": [
        "import pandas as pd\n",
        "import json\n",
        "\n",
        "with open(\"/content/t20_wc_batting_summary.json\") as f:\n",
        "  data =  json.load(f)\n",
        "\n"
      ]
    },
    {
      "cell_type": "code",
      "execution_count": null,
      "metadata": {
        "id": "l8-ex-l4JvQ6"
      },
      "outputs": [],
      "source": [
        "import pandas as pd\n",
        "import json\n",
        "\n",
        "with open(\"/content/t20_wc_match_results.json\") as f:\n",
        "  data =  json.load(f)\n",
        "\n",
        "winning_data = pd.DataFrame( data[0][\"matchSummary\"])\n",
        "\n",
        "winning_data.head(10)\n",
        "\n",
        "#renameing the column name with unique_id\n",
        "winning_data.rename({\"scorecard\":\"unique_id\"} ,axis=1,inplace=True)\n",
        "\n",
        "winning_data.to_csv(\"winning_data.csv\",index=False)"
      ]
    },
    {
      "cell_type": "markdown",
      "source": [
        "batting summary\n"
      ],
      "metadata": {
        "id": "so8skfqcMx35"
      }
    },
    {
      "cell_type": "code",
      "source": [
        "with open(\"/content/t20_wc_batting_summary.json\") as  f :\n",
        "  data = json.load(f)\n",
        "\n",
        "#print(data)\n",
        "#batting_data =  pd.DataFrame(data[0][\"battingSummary\"])\n",
        "\n",
        "#we can create a list using extendd all data in single  list\n",
        "all_records = []\n",
        "\n",
        "for rec  in data:\n",
        "  all_records.extend(rec[\"battingSummary\"])\n",
        "\n",
        "#adding the data frame\n",
        "batting_data =  pd.DataFrame(all_records)\n",
        "\n",
        "batting_data[\"out/not_out\"] = batting_data.dismissal.apply(lambda x : \"out\" if len(x)>0 else \"notout\")\n",
        "#drop the columns it  was unncessery\n",
        "batting_data.drop(columns=[\"dismissal\"],inplace=True)\n",
        "\n",
        "\n",
        "batting_data[\"batsmanName\"] = batting_data[\"batsmanName\"].apply(lambda x: x.replace(\"†\" ,\"\"))\n",
        "batting_data[\"batsmanName\"] = batting_data[\"batsmanName\"].apply(lambda x: x.replace(\"\\xa0\" ,\"\"))\n",
        "\n",
        "#batting_data\n"
      ],
      "metadata": {
        "id": "QLN0cXctMsFv"
      },
      "execution_count": null,
      "outputs": []
    },
    {
      "cell_type": "code",
      "source": [
        "match_dic = {}\n",
        "\n",
        "for index,row  in winning_data.iterrows():\n",
        "  key1=row[\"team1\"] + \" Vs \" + row[\"team2\"] \n",
        "  key2 = row[\"team2\"] + \" Vs \" + row[\"team1\"]\n",
        "\n",
        "  match_dic[key1]  = row[\"unique_id\"] \n",
        "  match_dic[key2] = row[\"unique_id\"]\n",
        " \n"
      ],
      "metadata": {
        "id": "PiT5eWICTf6y"
      },
      "execution_count": null,
      "outputs": []
    },
    {
      "cell_type": "code",
      "source": [
        "#combaining  using  the uniqid\n",
        "\n",
        "batting_data[\"uniq_id\"] = batting_data[\"match\"].map(match_dic)\n",
        "\n",
        "#data was ready"
      ],
      "metadata": {
        "id": "EirSXYnauq9h"
      },
      "execution_count": null,
      "outputs": []
    },
    {
      "cell_type": "code",
      "source": [
        "batting_data.to_csv(\"batting_data.csv\",index=False)\n",
        "\n"
      ],
      "metadata": {
        "id": "vUGJwWlmvv7g"
      },
      "execution_count": null,
      "outputs": []
    },
    {
      "cell_type": "code",
      "source": [
        "with open(\"/content/t20_wc_bowling_summary.json\") as f:\n",
        "  data = json.load(f)\n",
        "  all_records = []\n",
        "  for rec in data:\n",
        "    all_records.extend(rec[\"bowlingSummary\"])\n",
        "\n",
        "bollwing_data =  pd.DataFrame(all_records)\n",
        "\n"
      ],
      "metadata": {
        "id": "i11osmA5xgHK"
      },
      "execution_count": null,
      "outputs": []
    },
    {
      "cell_type": "code",
      "source": [
        "bollwing_data['uniq_id'] = bollwing_data['match'].map(match_dic)\n"
      ],
      "metadata": {
        "id": "fJUpspdFytRF"
      },
      "execution_count": null,
      "outputs": []
    },
    {
      "cell_type": "code",
      "source": [
        "bollwing_data.to_csv(\"bollowing_data.csv\" , index=False)"
      ],
      "metadata": {
        "id": "2KabYwIXzDbp"
      },
      "execution_count": 59,
      "outputs": []
    },
    {
      "cell_type": "code",
      "source": [
        "with  open(\"/content/t20_wc_player_info.json\") as  f:\n",
        "    data  = json.load(f)\n",
        "\n",
        "\n",
        "player_data = pd.DataFrame(data)\n",
        "\n",
        "player_data['name'] = player_data['name'].apply(lambda x: x.replace('†', ''))"
      ],
      "metadata": {
        "id": "AybtcVeozMjn"
      },
      "execution_count": null,
      "outputs": []
    },
    {
      "cell_type": "code",
      "source": [
        "player_data[player_data[\"team\"] == \"india\"]\n",
        "\n",
        "player_data.to_csv('player_data.csv', index = False)"
      ],
      "metadata": {
        "id": "378v3-_B0GzY"
      },
      "execution_count": 60,
      "outputs": []
    },
    {
      "cell_type": "code",
      "source": [],
      "metadata": {
        "id": "enK7NTw_zzep"
      },
      "execution_count": null,
      "outputs": []
    }
  ]
}